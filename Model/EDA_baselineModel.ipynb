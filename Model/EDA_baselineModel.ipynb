{
 "cells": [
  {
   "cell_type": "code",
   "execution_count": 1,
   "metadata": {},
   "outputs": [],
   "source": [
    "import numpy as np\n",
    "import pandas as pd\n",
    "import warnings\n",
    "from datetime import datetime, timedelta\n",
    "from matplotlib import pyplot as plt\n",
    "from re import sub\n",
    "from collections import Counter\n",
    "\n",
    "warnings.filterwarnings('ignore')"
   ]
  },
  {
   "cell_type": "code",
   "execution_count": 2,
   "metadata": {},
   "outputs": [],
   "source": [
    "# model packages\n",
    "from sklearn.model_selection import train_test_split\n",
    "from sklearn.model_selection import GridSearchCV\n",
    "from sklearn.model_selection import KFold\n",
    "from sklearn.linear_model import LogisticRegressionCV\n",
    "from sklearn.neighbors import KNeighborsClassifier\n",
    "from sklearn.discriminant_analysis import LinearDiscriminantAnalysis\n",
    "from sklearn.discriminant_analysis import QuadraticDiscriminantAnalysis\n",
    "from scipy.optimize import minimize"
   ]
  },
  {
   "cell_type": "code",
   "execution_count": 3,
   "metadata": {},
   "outputs": [],
   "source": [
    "df = pd.read_csv('data/calendar_compiled.csv')\n",
    "df_calendar = df.drop(['Unnamed: 0'], axis =1)\n",
    "df_listing = pd.read_csv('data/listings_complete.csv')"
   ]
  },
  {
   "cell_type": "markdown",
   "metadata": {},
   "source": [
    "##  EDA"
   ]
  },
  {
   "cell_type": "markdown",
   "metadata": {},
   "source": [
    "1. Data Cleaning: Type Conversion"
   ]
  },
  {
   "cell_type": "code",
   "execution_count": 4,
   "metadata": {},
   "outputs": [],
   "source": [
    "# convert time info\n",
    "df_calendar['date'] = pd.to_datetime(df_calendar['date'], format='%Y%m%d') \n",
    "df_calendar['dayWeek'] = df_calendar['date'].dt.day_name()\n",
    "df_calendar['year'] = df_calendar['date'].dt.year\n",
    "df_calendar['month'] = df_calendar['date'].dt.month\n",
    "df_calendar['day'] = df_calendar['date'].dt.day\n",
    "\n",
    "df_listing['host_since'] = pd.to_datetime(df_listing['host_since'])"
   ]
  },
  {
   "cell_type": "code",
   "execution_count": 5,
   "metadata": {
    "scrolled": false
   },
   "outputs": [],
   "source": [
    "# change price columns\n",
    "price_columns = ['price', 'weekly_price', 'monthly_price','security_deposit', 'cleaning_fee',  'extra_people']\n",
    "for price in price_columns:\n",
    "    df_listing[price] = df_listing[price].apply(lambda x:  x if (x != x) else float(sub(r'[^\\d.]', '', x)))"
   ]
  },
  {
   "cell_type": "code",
   "execution_count": 6,
   "metadata": {},
   "outputs": [],
   "source": [
    "# zip code\n",
    "df_listing['zipcode'] = df_listing.zipcode.apply(lambda x: x if (x != x) else x[-4:])"
   ]
  },
  {
   "cell_type": "markdown",
   "metadata": {},
   "source": [
    "2. Data Integration: Merge according to list_id and id"
   ]
  },
  {
   "cell_type": "code",
   "execution_count": 7,
   "metadata": {},
   "outputs": [],
   "source": [
    "# merge according to list_id and id\n",
    "df_all = df_calendar.merge(df_listing, left_on = 'listing_id', right_on = 'id', suffixes=('_daily', '_average'))\n",
    "df_all = df_all.drop(['id'], axis = 1)"
   ]
  },
  {
   "cell_type": "code",
   "execution_count": 8,
   "metadata": {},
   "outputs": [
    {
     "data": {
      "text/plain": [
       "Index(['listing_id', 'date', 'city', 'price_daily', 'unavailable', 'dayWeek',\n",
       "       'year', 'month', 'day', 'Unnamed: 0', 'host_since', 'zipcode',\n",
       "       'latitude', 'longitude', 'property_type', 'room_type', 'accommodates',\n",
       "       'bathrooms', 'bedrooms', 'beds', 'bed_type', 'amenities',\n",
       "       'price_average', 'weekly_price', 'monthly_price', 'security_deposit',\n",
       "       'cleaning_fee', 'guests_included', 'extra_people', 'number_of_reviews',\n",
       "       'review_scores_rating', 'Wifi', 'Heating', 'Smoke detector',\n",
       "       'Essentials', 'Kitchen', 'Carbon monoxide detector', 'Hangers',\n",
       "       'Air conditioning', 'Shampoo', 'Hair dryer', 'Iron',\n",
       "       'Laptop friendly workspace', 'TV', 'Washer', 'Dryer', 'Hot water',\n",
       "       'Fire extinguisher', 'Refrigerator', 'Microwave', 'Self check-in'],\n",
       "      dtype='object')"
      ]
     },
     "execution_count": 8,
     "metadata": {},
     "output_type": "execute_result"
    }
   ],
   "source": [
    "df_all.columns"
   ]
  },
  {
   "cell_type": "markdown",
   "metadata": {},
   "source": [
    "3. Columns of interest"
   ]
  },
  {
   "cell_type": "code",
   "execution_count": 9,
   "metadata": {},
   "outputs": [],
   "source": [
    "column_interested = ['listing_id', 'date', 'city', 'price_daily', 'unavailable', 'dayWeek', 'year', 'month', 'day', \n",
    "                     'host_since', 'zipcode', 'property_type', 'room_type', 'accommodates', \n",
    "                     'bathrooms', 'bedrooms', 'beds', 'bed_type','amenities', 'number_of_reviews',\n",
    "                     'security_deposit', 'cleaning_fee','guests_included', 'extra_people']\n",
    "\n",
    "df_clean = df_all[column_interested]"
   ]
  },
  {
   "cell_type": "markdown",
   "metadata": {},
   "source": [
    "3. Missing Values and Imputation"
   ]
  },
  {
   "cell_type": "code",
   "execution_count": 10,
   "metadata": {},
   "outputs": [
    {
     "data": {
      "text/plain": [
       "host_since             245\n",
       "zipcode              11409\n",
       "bathrooms             1002\n",
       "bedrooms               553\n",
       "security_deposit    468519\n",
       "cleaning_fee        237600\n",
       "dtype: int64"
      ]
     },
     "execution_count": 10,
     "metadata": {},
     "output_type": "execute_result"
    }
   ],
   "source": [
    "df_clean.isna().sum()[df_clean.isna().sum() != 0]"
   ]
  },
  {
   "cell_type": "code",
   "execution_count": 11,
   "metadata": {},
   "outputs": [],
   "source": [
    "impute_zero = ['security_deposit', 'cleaning_fee', 'bathrooms', 'bedrooms']\n",
    "keep_nan = ['zipcode']\n",
    "\n",
    "df_clean[impute_zero] = df_clean[impute_zero].fillna(0)"
   ]
  },
  {
   "cell_type": "markdown",
   "metadata": {},
   "source": [
    "4. feature engineering"
   ]
  },
  {
   "cell_type": "code",
   "execution_count": 30,
   "metadata": {},
   "outputs": [],
   "source": [
    "# create host_length (enter 0 when doing our optimization)\n",
    "df_clean['host_length'] = (df_clean['date'] - df_clean['host_since']).dt.days\n",
    "df_clean['host_length'] = df_clean['host_length'].fillna(0)"
   ]
  },
  {
   "cell_type": "code",
   "execution_count": 13,
   "metadata": {},
   "outputs": [
    {
     "data": {
      "image/png": "[encoded data removed]",
      "text/plain": [
       "<Figure size 864x360 with 1 Axes>"
      ]
     },
     "metadata": {
      "needs_background": "light"
     },
     "output_type": "display_data"
    }
   ],
   "source": [
    "# extract important amenities info\n",
    "# we are interested in the top 20 amenities\n",
    "all_amenities = []\n",
    "for amenities in df_listing.amenities: \n",
    "    list_amenities = amenities[1:-1].split(',')\n",
    "    list_amenities = np.char.strip(list_amenities,'\\\"')\n",
    "    all_amenities.extend(list_amenities)\n",
    "\n",
    "n_amenities = 20\n",
    "amenities_interest = [pair[0] for pair in Counter(all_amenities).most_common()[:n_amenities]]\n",
    "amenities_interest_cnt = [pair[1] for pair in Counter(all_amenities).most_common()[:n_amenities]]\n",
    "\n",
    "fig,ax=plt.subplots(1,1,figsize=(12,5))\n",
    "plt.bar([pair[0] for pair in Counter(all_amenities).most_common()[:40]],\n",
    "        [pair[1] for pair in Counter(all_amenities).most_common()[:40]])\n",
    "plt.bar(amenities_interest,amenities_interest_cnt)\n",
    "plt.xticks(rotation=90);"
   ]
  },
  {
   "cell_type": "code",
   "execution_count": 14,
   "metadata": {},
   "outputs": [],
   "source": [
    "listing_amenities = np.zeros((len(df_clean),n_amenities))\n",
    "\n",
    "for i,row in df_clean.iterrows():\n",
    "    amenities = np.char.strip(row.amenities[1:-1].split(','),'\\\"')\n",
    "    for j,a in enumerate(amenities_interest):\n",
    "        if a in amenities:\n",
    "            listing_amenities[i,j] = 1"
   ]
  },
  {
   "cell_type": "code",
   "execution_count": 15,
   "metadata": {},
   "outputs": [],
   "source": [
    "for i,a in enumerate(amenities_interest):\n",
    "    df_clean[a] = listing_amenities[:,i]\n"
   ]
  },
  {
   "cell_type": "code",
   "execution_count": 16,
   "metadata": {},
   "outputs": [],
   "source": [
    "df_clean = df_clean.drop('amenities',axis=1)"
   ]
  },
  {
   "cell_type": "code",
   "execution_count": 17,
   "metadata": {},
   "outputs": [
    {
     "data": {
      "image/png": "[encoded data removed]",
      "text/plain": [
       "<Figure size 432x288 with 1 Axes>"
      ]
     },
     "metadata": {
      "needs_background": "light"
     },
     "output_type": "display_data"
    }
   ],
   "source": [
    "# extract important features from date info\n",
    "weekDay_price = df_clean.groupby(['dayWeek'])['price_daily'].mean()\n",
    "\n",
    "weekDay_order_index = ['Sunday', 'Monday', 'Tuesday', 'Wednesday', 'Thursday', 'Friday', 'Saturday']\n",
    "weekDay_oder_value = [weekDay_price[x] for x in weekDay_order_index]\n",
    "\n",
    "plt.plot(weekDay_order_index, weekDay_oder_value)\n",
    "plt.ylabel('Average Daily Price')\n",
    "plt.title('Price V.S. Day in Week');"
   ]
  },
  {
   "cell_type": "markdown",
   "metadata": {},
   "source": [
    "We can see that the price for Friday and Saturday are significantly different from the other days in the week. Therefore, we created a categorical feature 'weekend' (including Friday and Saturday)."
   ]
  },
  {
   "cell_type": "code",
   "execution_count": 18,
   "metadata": {},
   "outputs": [],
   "source": [
    "df_clean['weekend'] = df_clean['dayWeek'].isin(['Friday', 'Saturday'])"
   ]
  },
  {
   "cell_type": "code",
   "execution_count": 19,
   "metadata": {
    "scrolled": true
   },
   "outputs": [
    {
     "data": {
      "image/png": "[encoded data removed]",
      "text/plain": [
       "<Figure size 432x288 with 1 Axes>"
      ]
     },
     "metadata": {
      "needs_background": "light"
     },
     "output_type": "display_data"
    }
   ],
   "source": [
    "# extract month pattern\n",
    "month_price = df_clean.groupby(['month'])['price_daily'].mean()\n",
    "\n",
    "month_order_index = [1, 2, 3, 4, 5, 6, 7, 8, 9, 10, 11, 12]\n",
    "month_oder_value = [month_price[x] for x in month_order_index]\n",
    "\n",
    "plt.plot(np.array(month_order_index)-1, month_oder_value)\n",
    "plt.xticks(range(12), month_order_index)\n",
    "plt.xlabel('Month')\n",
    "plt.ylabel('Average Daily Price')\n",
    "plt.title('Price V.S. Month in Year');"
   ]
  },
  {
   "cell_type": "markdown",
   "metadata": {},
   "source": [
    "From the plot we can see that, each year from May to October is the peak, then comes (March, April, November), and the remaining are the slack season. Therefore we created a categorical feature 'peak_month', which has Peak (May to Oct), Middle(March, April, November) and Slack(Jan, Feb, Dec). "
   ]
  },
  {
   "cell_type": "code",
   "execution_count": 20,
   "metadata": {},
   "outputs": [],
   "source": [
    "def classify_month(x):\n",
    "    if x in [5,6,7,8,9,10]:\n",
    "        return 'Peak'\n",
    "    elif x in[3,4,11]:\n",
    "        return 'Middle'\n",
    "    else:\n",
    "        return 'Slack'\n",
    "\n",
    "df_clean['peak_month'] = df_clean['month'].apply(classify_month)"
   ]
  },
  {
   "cell_type": "code",
   "execution_count": 21,
   "metadata": {},
   "outputs": [],
   "source": [
    "date_boston = ['20181011','20181117','20181213','20190117','20190209','20190312',\n",
    "               '20190415','20190519','20190614','20190714','20190819','20190922',\n",
    "               '20191011']\n",
    "\n",
    "pull_time_boston = np.array([datetime.strptime(x, '%Y%m%d') for x in date_boston])\n",
    "\n",
    "date_cambridge = ['20181118','20181215','20190122','20190213','20190318',\n",
    "                  '20190418','20190523','20190624','20190720','20190828','20190925',\n",
    "                  '20191118']\n",
    "pull_time_cambridge = np.array([datetime.strptime(x, '%Y%m%d') for x in date_cambridge])"
   ]
  },
  {
   "cell_type": "code",
   "execution_count": 22,
   "metadata": {},
   "outputs": [],
   "source": [
    "def calculate_pull_length(t, city):\n",
    "    if city == 'Boston':\n",
    "        diff = (t - np.array(pull_time_boston))\n",
    "    else:\n",
    "        diff = (t - np.array(pull_time_cambridge))\n",
    "    day_diff = np.array([x.days for x in diff])\n",
    "    return day_diff[day_diff>=0][-1]"
   ]
  },
  {
   "cell_type": "code",
   "execution_count": 23,
   "metadata": {},
   "outputs": [],
   "source": [
    "def calculate_pull_length(data):\n",
    "    t = data['date']\n",
    "    city = data['city']\n",
    "    if city == 'boston':\n",
    "        diff = (t - np.array(pull_time_boston))\n",
    "    else:\n",
    "        diff = (t - np.array(pull_time_cambridge))\n",
    "    day_diff = np.array([x.days for x in diff])\n",
    "    return day_diff[day_diff>=0][-1]"
   ]
  },
  {
   "cell_type": "code",
   "execution_count": 24,
   "metadata": {},
   "outputs": [],
   "source": [
    "df_clean['pull_distance'] = df_clean.apply(calculate_pull_length, axis = 1)"
   ]
  },
  {
   "cell_type": "code",
   "execution_count": 25,
   "metadata": {},
   "outputs": [
    {
     "data": {
      "image/png": "[encoded data removed]",
      "text/plain": [
       "<Figure size 432x288 with 1 Axes>"
      ]
     },
     "metadata": {
      "needs_background": "light"
     },
     "output_type": "display_data"
    }
   ],
   "source": [
    "dayPullDistance= df_clean.groupby('pull_distance')['unavailable'].mean()\n",
    "dayPullDistance.plot();"
   ]
  },
  {
   "cell_type": "code",
   "execution_count": 26,
   "metadata": {},
   "outputs": [
    {
     "data": {
      "image/png": "[encoded data removed]",
      "text/plain": [
       "<Figure size 432x288 with 1 Axes>"
      ]
     },
     "metadata": {
      "needs_background": "light"
     },
     "output_type": "display_data"
    }
   ],
   "source": [
    "df_clean['pull_distance'].hist()\n",
    "plt.xlabel('pull distance (days)')\n",
    "plt.ylabel('number of obs');"
   ]
  },
  {
   "cell_type": "markdown",
   "metadata": {},
   "source": [
    "From the number of obs vs pull distance we can see that, it's better for us to keep the records with pull distance <= 30 (which is reasonable espcially in our case)."
   ]
  },
  {
   "cell_type": "code",
   "execution_count": 27,
   "metadata": {},
   "outputs": [
    {
     "data": {
      "image/png": "[encoded data removed]",
      "text/plain": [
       "<Figure size 432x288 with 1 Axes>"
      ]
     },
     "metadata": {
      "needs_background": "light"
     },
     "output_type": "display_data"
    }
   ],
   "source": [
    "df_clean_pre = df_clean\n",
    "df_clean = df_clean[df_clean.pull_distance <= 30]\n",
    "dayPullDistance= df_clean.groupby('pull_distance')['unavailable'].mean()\n",
    "dayPullDistance.plot();"
   ]
  },
  {
   "cell_type": "code",
   "execution_count": 31,
   "metadata": {},
   "outputs": [],
   "source": [
    "df_clean.to_csv('data/cleanData.csv', index = False)"
   ]
  },
  {
   "cell_type": "code",
   "execution_count": null,
   "metadata": {},
   "outputs": [],
   "source": [
    "# one-hot for categorical column (>= 3 categories)\n",
    "to_categorical = ['zipcode', 'property_type', 'room_type', 'bed_type', 'peak_month']\n",
    "\n",
    "\n",
    "df_final = pd.concat([df_clean, pd.get_dummies(df_clean[to_categorical],\n",
    "                                              prefix=['zipcode_', 'propertyType_', 'roomType_', 'bedType_', 'peakMonth_'], \n",
    "                                              drop_first=True)], axis = 1)"
   ]
  },
  {
   "cell_type": "code",
   "execution_count": null,
   "metadata": {},
   "outputs": [],
   "source": [
    "not_features = ['listing_id','date','unavailable','dayWeek','month','host_since','city_daily', 'year', 'day'] + to_categorical"
   ]
  },
  {
   "cell_type": "code",
   "execution_count": 92,
   "metadata": {},
   "outputs": [],
   "source": [
    "X = df_final.drop(not_features, axis = 1)\n",
    "Y = df_final['unavailable']"
   ]
  },
  {
   "cell_type": "markdown",
   "metadata": {},
   "source": [
    "The features we have:\n",
    "- price_daily\n",
    "- pull distance (how far the date is from the time pulling the data)\n",
    "- host info: host_length (when doing optimization for new hosts, set 0)\n",
    "- time info: weekend, peak_month\n",
    "- property info: zipcode, property type, room type, bed type, acommodates, bathrooms, bedrooms, beds, guests_included, extra_people\n",
    "- related fees info: security_deposit, cleaning_fee"
   ]
  },
  {
   "cell_type": "markdown",
   "metadata": {},
   "source": [
    "## Predictive Model (The probability of getting rent)\n",
    "\n",
    "In this predictive model, we are finding the mapping for (price, other variables) to (the probability of getting rent)"
   ]
  },
  {
   "cell_type": "code",
   "execution_count": 95,
   "metadata": {
    "scrolled": true
   },
   "outputs": [
    {
     "name": "stdout",
     "output_type": "stream",
     "text": [
      "The probability of Being Rent is 0.63\n"
     ]
    },
    {
     "data": {
      "image/png": "[encoded data removed]",
      "text/plain": [
       "<Figure size 432x288 with 1 Axes>"
      ]
     },
     "metadata": {
      "needs_background": "light"
     },
     "output_type": "display_data"
    }
   ],
   "source": [
    "# Data Balance check\n",
    "plt.bar([1,2], [len(Y)-np.sum(Y), np.sum(Y)])\n",
    "plt.xticks([1,2], ['not Rent', 'Rent'])\n",
    "plt.ylabel('Number of Observations');\n",
    "print('The probability of Being Rent is {0:4.2f}'.format(np.sum(Y)/len(Y)))"
   ]
  },
  {
   "cell_type": "markdown",
   "metadata": {},
   "source": [
    "From the plot above we can see that, the data does not have a severe imbalance problem in response variable, so we do not need to take further actions."
   ]
  },
  {
   "cell_type": "markdown",
   "metadata": {},
   "source": [
    "1. Train-Test Split"
   ]
  },
  {
   "cell_type": "code",
   "execution_count": 96,
   "metadata": {},
   "outputs": [
    {
     "name": "stdout",
     "output_type": "stream",
     "text": [
      "# Training Images: 962985\n",
      "# Validation Images: 240747\n",
      "# Test Images: 133748\n"
     ]
    }
   ],
   "source": [
    "X_TRAIN, X_test, Y_TRAIN,  y_test = train_test_split(X, Y, test_size = 0.1, random_state = 2019)\n",
    "X_train, X_val, y_train,  y_val = train_test_split(X_TRAIN, Y_TRAIN, test_size = 0.2, random_state = 2019)\n",
    "\n",
    "print('# Training Images: {}'.format(len(X_train)))\n",
    "print('# Validation Images: {}'.format(len(X_val)))\n",
    "print('# Test Images: {}'.format(len(X_test)))"
   ]
  },
  {
   "cell_type": "markdown",
   "metadata": {},
   "source": [
    "2. Logistic Regression (with built-in cross validation for selecting Cs values and l1_ratios)"
   ]
  },
  {
   "cell_type": "code",
   "execution_count": 97,
   "metadata": {},
   "outputs": [],
   "source": [
    "k = KFold(5, random_state = 2019, shuffle=True)\n",
    "clf = LogisticRegressionCV(cv = k, random_state = 2019).fit(X_TRAIN, Y_TRAIN)"
   ]
  },
  {
   "cell_type": "code",
   "execution_count": 134,
   "metadata": {},
   "outputs": [
    {
     "name": "stdout",
     "output_type": "stream",
     "text": [
      "The accuracy for Logistic Regression on Test set is 0.6697\n"
     ]
    }
   ],
   "source": [
    "print('The accuracy for Logistic Regression on Test set is {0:6.4f}'.format(clf.score(X_test, y_test)))"
   ]
  },
  {
   "cell_type": "code",
   "execution_count": 98,
   "metadata": {},
   "outputs": [
    {
     "name": "stdout",
     "output_type": "stream",
     "text": [
      "The accuracy for Logistic Regression on Test set is 0.6813\n"
     ]
    }
   ],
   "source": [
    "print('The accuracy for Logistic Regression on Test set is {0:6.4f}'.format(clf.score(X_test, y_test)))"
   ]
  },
  {
   "cell_type": "markdown",
   "metadata": {},
   "source": [
    "3. KNN (with cross validation for selecting n_neighbors)"
   ]
  },
  {
   "cell_type": "code",
   "execution_count": null,
   "metadata": {},
   "outputs": [],
   "source": [
    "knn = KNeighborsClassifier()\n",
    "param_grid = {'n_neighbors': np.arange(1, 2, 1)}\n",
    "knn_gscv = GridSearchCV(knn, param_grid, cv = k)\n",
    "knn_gscv.fit(X_TRAIN, Y_TRAIN)"
   ]
  },
  {
   "cell_type": "code",
   "execution_count": null,
   "metadata": {},
   "outputs": [],
   "source": [
    "print('The best n_neighbors for KNN is {}'.format(knn_gscv.best_params))\n",
    "print('The accuracy for KNN on Test set is {0:6.4f}'.format(knn_gscv.score(X_test, y_test)))"
   ]
  },
  {
   "cell_type": "markdown",
   "metadata": {},
   "source": [
    "4. LDA/QDA"
   ]
  },
  {
   "cell_type": "code",
   "execution_count": null,
   "metadata": {},
   "outputs": [],
   "source": [
    "lda = LinearDiscriminantAnalysis().fit(X_blobs,y_blobs)\n",
    "qda = QuadraticDiscriminantAnalysis().fit(X_blobs,y_blobs)"
   ]
  },
  {
   "cell_type": "markdown",
   "metadata": {},
   "source": [
    "5. Classification Trees"
   ]
  },
  {
   "cell_type": "code",
   "execution_count": null,
   "metadata": {},
   "outputs": [],
   "source": []
  },
  {
   "cell_type": "markdown",
   "metadata": {},
   "source": [
    "## Optimization Model (Find Price that Maximized the Expected Return)"
   ]
  },
  {
   "cell_type": "markdown",
   "metadata": {},
   "source": [
    "According to the predictive model above, we found a mapping from (Price, other features) -> the probability of property getting rent. Given the value for other features, we have a function $F$, that takes the price and return the probability of being rent.\n",
    "\n",
    "The goal for our project is to help the new host optimize the expected Return, which is:\n",
    "$$ \\text{Price}*{\\text{P}} = \\text{Price} * \\text{F}(\\text{Price})$$\n",
    "\n",
    "To make the use of recent packages, we will try to minimize the negative,\n",
    "$$\\underset{price}{\\operatorname{argmin}} \\{- \\text{Price} * \\text{F}(\\text{Price})\\}$$"
   ]
  },
  {
   "cell_type": "code",
   "execution_count": 108,
   "metadata": {},
   "outputs": [],
   "source": [
    "def get_prob(price):\n",
    "    X_test_case =  X_test.iloc[0]\n",
    "    X_test_case['host_length'] = 0\n",
    "    X_test_case['pull_distance'] = 0\n",
    "    X_blank = pd.DataFrame(X_test_case).T # use the values in other columns for convenience\n",
    "    X_blank['price_daily'] = price\n",
    "    prob = clf.predict_proba(X_blank)[0][-1] # use the model here\n",
    "    return prob"
   ]
  },
  {
   "cell_type": "code",
   "execution_count": 109,
   "metadata": {},
   "outputs": [],
   "source": [
    "def minimize_objective(price):\n",
    "    return - price * get_prob(price)"
   ]
  },
  {
   "cell_type": "code",
   "execution_count": 110,
   "metadata": {},
   "outputs": [
    {
     "name": "stdout",
     "output_type": "stream",
     "text": [
      "The Suggested Price is 992.94\n",
      "The Expected Return is 367.31, with the probability of being rent is 0.37\n"
     ]
    }
   ],
   "source": [
    "initial_price = 100\n",
    "solution = minimize(minimize_objective, initial_price, method = 'SLSQP', tol = 1e-6)\n",
    "\n",
    "print('The Suggested Price is {0:4.2f}'.format(solution.x[0]))\n",
    "print('The Expected Return is {0:4.2f}, with the probability of being rent is {1:4.2f}'.format(-solution.fun, get_prob(solution.x)))"
   ]
  },
  {
   "cell_type": "code",
   "execution_count": 122,
   "metadata": {},
   "outputs": [
    {
     "name": "stdout",
     "output_type": "stream",
     "text": [
      "The Suggested Price is 745.35\n",
      "The Expected Return is 119.02, with the probability of being rent is 0.16\n"
     ]
    }
   ],
   "source": [
    "initial_price = 100\n",
    "solution = minimize(minimize_objective, initial_price, method = 'SLSQP', tol = 1e-6)\n",
    "\n",
    "print('The Suggested Price is {0:4.2f}'.format(solution.x[0]))\n",
    "print('The Expected Return is {0:4.2f}, with the probability of being rent is {1:4.2f}'.format(-solution.fun, get_prob(solution.x)))"
   ]
  }
 ],
 "metadata": {
  "kernelspec": {
   "display_name": "Python 3",
   "language": "python",
   "name": "python3"
  },
  "language_info": {
   "codemirror_mode": {
    "name": "ipython",
    "version": 3
   },
   "file_extension": ".py",
   "mimetype": "text/x-python",
   "name": "python",
   "nbconvert_exporter": "python",
   "pygments_lexer": "ipython3",
   "version": "3.6.8"
  }
 },
 "nbformat": 4,
 "nbformat_minor": 2
}
