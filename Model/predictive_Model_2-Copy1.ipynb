{
 "cells": [
  {
   "cell_type": "code",
   "execution_count": 1,
   "metadata": {},
   "outputs": [],
   "source": [
    "import numpy as np\n",
    "import pandas as pd\n",
    "import warnings\n",
    "from datetime import datetime, timedelta\n",
    "from matplotlib import pyplot as plt\n",
    "from re import sub\n",
    "import pickle\n",
    "\n",
    "warnings.filterwarnings('ignore')"
   ]
  },
  {
   "cell_type": "code",
   "execution_count": 2,
   "metadata": {},
   "outputs": [],
   "source": [
    "# model packages\n",
    "from sklearn.model_selection import train_test_split\n",
    "from sklearn.model_selection import GridSearchCV\n",
    "from sklearn.model_selection import KFold\n",
    "from sklearn.linear_model import LogisticRegressionCV\n",
    "from sklearn.neighbors import KNeighborsClassifier\n",
    "from sklearn.discriminant_analysis import LinearDiscriminantAnalysis\n",
    "from sklearn.discriminant_analysis import QuadraticDiscriminantAnalysis\n",
    "from sklearn.ensemble import RandomForestClassifier\n",
    "# from scipy.optimize import minimize"
   ]
  },
  {
   "cell_type": "code",
   "execution_count": 3,
   "metadata": {},
   "outputs": [],
   "source": [
    "df_clean = pd.read_csv('data/cleanData.csv')\n",
    "df_clean['zipcode'] = df_clean['zipcode'].astype('category')"
   ]
  },
  {
   "cell_type": "code",
   "execution_count": 4,
   "metadata": {},
   "outputs": [],
   "source": [
    "# one-hot for categorical column (>= 3 categories)\n",
    "to_categorical = ['zipcode', 'property_type', 'room_type', 'bed_type', 'peak_month']\n",
    "\n",
    "\n",
    "df_clean = pd.concat([df_clean, pd.get_dummies(df_clean[to_categorical],\n",
    "                                              prefix=['zipcode_', 'propertyType_', 'roomType_', 'bedType_', 'peakMonth_'], \n",
    "                                              drop_first=True)], axis = 1)"
   ]
  },
  {
   "cell_type": "code",
   "execution_count": 5,
   "metadata": {},
   "outputs": [],
   "source": [
    "not_features = ['listing_id','date','dayWeek','month','host_since','city', 'year', 'day'] + to_categorical"
   ]
  },
  {
   "cell_type": "code",
   "execution_count": 6,
   "metadata": {},
   "outputs": [],
   "source": [
    "df_final = df_clean.drop(not_features, axis = 1)"
   ]
  },
  {
   "cell_type": "markdown",
   "metadata": {},
   "source": [
    "The features we have:\n",
    "- price_daily\n",
    "- pull distance (how far the date is from the time pulling the data)\n",
    "- host info: host_length (when doing optimization for new hosts, set 0)\n",
    "- time info: weekend, peak_month\n",
    "- property info: zipcode, property type, room type, bed type, acommodates, bathrooms, bedrooms, beds, guests_included, extra_people\n",
    "- related fees info: security_deposit, cleaning_fee"
   ]
  },
  {
   "cell_type": "markdown",
   "metadata": {},
   "source": [
    "## Predictive Model (The probability of getting rent)\n",
    "\n",
    "In this predictive model, we are finding the mapping for (price, other variables) to (the probability of getting rent)"
   ]
  },
  {
   "cell_type": "code",
   "execution_count": 7,
   "metadata": {},
   "outputs": [],
   "source": [
    "np.random.seed(2019)\n",
    "negative_index = df_final[(df_final.pull_distance == 0) & (df_final.unavailable == 0)].index\n",
    "upsample_index = np.random.choice(negative_index, np.sum(df_final[df_final['pull_distance'] == 0]['unavailable'])-len(negative_index))\n",
    "\n",
    "df_final = df_final.append(df_final.iloc[upsample_index])"
   ]
  },
  {
   "cell_type": "code",
   "execution_count": 11,
   "metadata": {},
   "outputs": [],
   "source": [
    "X = df_final.drop(['unavailable'], axis = 1)\n",
    "Y = df_final['unavailable']"
   ]
  },
  {
   "cell_type": "code",
   "execution_count": 19,
   "metadata": {},
   "outputs": [
    {
     "name": "stdout",
     "output_type": "stream",
     "text": [
      "The probability of Being Rent is 0.62\n"
     ]
    },
    {
     "data": {
      "image/png": "[encoded data removed]",
      "text/plain": [
       "<Figure size 864x360 with 2 Axes>"
      ]
     },
     "metadata": {
      "needs_background": "light"
     },
     "output_type": "display_data"
    }
   ],
   "source": [
    "# Data Balance check\n",
    "fig,ax = plt.subplots(1,2,figsize=(12,5))\n",
    "ax[0].bar([1,2], [len(Y)-np.sum(Y)-len(upsample_index), np.sum(Y)])\n",
    "ax[1].bar([1,2], [len(Y)-np.sum(Y), np.sum(Y)])\n",
    "ax[0].set_xticks([1,2])\n",
    "ax[0].set_xticklabels(['not Rent', 'Rent'])\n",
    "ax[0].tick_params(labelsize=14)\n",
    "ax[0].set_ylabel('Number of Observations',fontsize=14)\n",
    "ax[1].set_xticks([1,2])\n",
    "ax[1].set_xticklabels(['not Rent', 'Rent'])\n",
    "ax[1].set_ylabel('Number of Observations',fontsize=14)\n",
    "ax[1].tick_params(labelsize=14)\n",
    "plt.tight_layout()\n",
    "print('The probability of Being Rent is {0:4.2f}'.format(np.sum(Y)/len(Y)))"
   ]
  },
  {
   "cell_type": "markdown",
   "metadata": {},
   "source": [
    "1. Train-Test Split"
   ]
  },
  {
   "cell_type": "code",
   "execution_count": 27,
   "metadata": {},
   "outputs": [
    {
     "name": "stdout",
     "output_type": "stream",
     "text": [
      "# Training Images: 1338276\n",
      "# Test Images: 334569\n"
     ]
    }
   ],
   "source": [
    "X_TRAIN, X_test, Y_TRAIN,  y_test = train_test_split(X, Y, test_size = 0.2, random_state = 2019)\n",
    "# X_train, X_val, y_train,  y_val = train_test_split(X_TRAIN, Y_TRAIN, test_size = 0.2, random_state = 2019)\n",
    "\n",
    "print('# Training Images: {}'.format(len(X_TRAIN)))\n",
    "# print('# Validation Images: {}'.format(len(X_val)))\n",
    "print('# Test Images: {}'.format(len(X_test)))"
   ]
  },
  {
   "cell_type": "markdown",
   "metadata": {},
   "source": [
    "2. Logistic Regression (with built-in cross validation for selecting Cs values and l1_ratios)"
   ]
  },
  {
   "cell_type": "code",
   "execution_count": 12,
   "metadata": {},
   "outputs": [],
   "source": [
    "# k = KFold(5, random_state = 2019, shuffle=True)\n",
    "# clf = LogisticRegressionCV(cv = k, random_state = 2019).fit(X_TRAIN, Y_TRAIN)"
   ]
  },
  {
   "cell_type": "code",
   "execution_count": 13,
   "metadata": {},
   "outputs": [],
   "source": [
    "# print('The accuracy for Logistic Regression on Test set is {0:6.4f}'.format(clf.score(X_test, y_test)))"
   ]
  },
  {
   "cell_type": "markdown",
   "metadata": {},
   "source": [
    "3. KNN (with cross validation for selecting n_neighbors)"
   ]
  },
  {
   "cell_type": "code",
   "execution_count": 14,
   "metadata": {},
   "outputs": [],
   "source": [
    "# knn = KNeighborsClassifier()\n",
    "# param_grid = {'n_neighbors': np.arange(10, 2, 1)}\n",
    "# knn_gscv = GridSearchCV(knn, param_grid, cv = k)\n",
    "# knn_gscv.fit(X_TRAIN, Y_TRAIN)"
   ]
  },
  {
   "cell_type": "code",
   "execution_count": 15,
   "metadata": {},
   "outputs": [],
   "source": [
    "# # print('The best n_neighbors for KNN is {}'.format(knn_gscv.best_params))\n",
    "# print('The accuracy for KNN on Test set is {0:6.4f}'.format(knn_gscv.score(X_test, y_test)))"
   ]
  },
  {
   "cell_type": "markdown",
   "metadata": {},
   "source": [
    "4. LDA/QDA"
   ]
  },
  {
   "cell_type": "markdown",
   "metadata": {},
   "source": [
    "5. Decision Trees"
   ]
  },
  {
   "cell_type": "markdown",
   "metadata": {},
   "source": [
    "6. Random Forest"
   ]
  },
  {
   "cell_type": "code",
   "execution_count": 71,
   "metadata": {},
   "outputs": [],
   "source": [
    "# rf = RandomForestClassifier(n_estimators = 10, random_state = 42)\n",
    "# rf.fit(X_TRAIN, Y_TRAIN);"
   ]
  },
  {
   "cell_type": "code",
   "execution_count": 100,
   "metadata": {},
   "outputs": [],
   "source": [
    "# pickle.dump(rf, open('randomForest.sav', 'wb'))"
   ]
  },
  {
   "cell_type": "code",
   "execution_count": 20,
   "metadata": {},
   "outputs": [],
   "source": [
    "rf = pickle.load(open('rf.sav', 'rb'))"
   ]
  },
  {
   "cell_type": "code",
   "execution_count": 87,
   "metadata": {},
   "outputs": [
    {
     "name": "stdout",
     "output_type": "stream",
     "text": [
      "The accuracy for random forest on Test set is 0.9114\n"
     ]
    }
   ],
   "source": [
    "print('The accuracy for random forest on Test set is {0:6.4f}'.format(rf.score(X_test, y_test)))"
   ]
  },
  {
   "cell_type": "code",
   "execution_count": 22,
   "metadata": {},
   "outputs": [],
   "source": [
    "rf_featureimp = pd.DataFrame({'Feature':X.columns,'Importance':rf.feature_importances_})\n",
    "rf_featureimp = rf_featureimp.sort_values(by='Importance',ascending=False).head(20)"
   ]
  },
  {
   "cell_type": "code",
   "execution_count": 25,
   "metadata": {},
   "outputs": [
    {
     "data": {
      "image/png": "[encoded data removed]",
      "text/plain": [
       "<Figure size 864x360 with 1 Axes>"
      ]
     },
     "metadata": {
      "needs_background": "light"
     },
     "output_type": "display_data"
    }
   ],
   "source": [
    "fig,ax = plt.subplots(1,1,figsize=(12,5))\n",
    "ax.bar(rf_featureimp.Feature, rf_featureimp.Importance)\n",
    "ax.set_xticklabels(rf_featureimp.Feature,rotation=90)\n",
    "ax.set_ylabel('Feature Importance',fontsize=14)\n",
    "ax.tick_params(labelsize=14)\n",
    "plt.tight_layout()\n",
    "plt.savefig('feature_imp.png')"
   ]
  },
  {
   "cell_type": "code",
   "execution_count": null,
   "metadata": {},
   "outputs": [],
   "source": []
  },
  {
   "cell_type": "code",
   "execution_count": null,
   "metadata": {},
   "outputs": [],
   "source": []
  },
  {
   "cell_type": "markdown",
   "metadata": {},
   "source": [
    "7. Boosting (XGBoost)"
   ]
  },
  {
   "cell_type": "markdown",
   "metadata": {},
   "source": [
    "## Optimization"
   ]
  },
  {
   "cell_type": "code",
   "execution_count": 18,
   "metadata": {},
   "outputs": [],
   "source": [
    "# columns_needed = list(X.columns)\n",
    "# columns_remove = ['price_daily','host_length','pull_distance']\n",
    "\n",
    "# for i in columns_remove:\n",
    "#     columns_needed.remove(i) \n",
    "\n",
    "# index_Flag = True\n",
    "# for i in columns_needed:\n",
    "#     index_Flag &= X[i] == X_blank[i].values[0]\n",
    "\n",
    "# lb, ub = np.quantile(X[index_Flag].price_daily, (0.5, 0.95))"
   ]
  },
  {
   "cell_type": "code",
   "execution_count": 73,
   "metadata": {},
   "outputs": [],
   "source": [
    "def get_prob(price):\n",
    "    X_blank['price_daily'] = price\n",
    "    prob = rf.predict_proba(X_blank)[0][-1] # use the model here\n",
    "    return prob"
   ]
  },
  {
   "cell_type": "code",
   "execution_count": 74,
   "metadata": {},
   "outputs": [],
   "source": [
    "def optimization(lb, ub):\n",
    "    print('Searching among [{}, {}]'.format(lb, ub))\n",
    "    optima_sol = {'prob':0, 'price':0, 'Expected Return':0}\n",
    "    for p in np.arange(lb, ub+1, 1):\n",
    "        if p* get_prob(p) >= optima_sol['Expected Return']:\n",
    "            optima_sol = {'prob':get_prob(p), 'price':p, 'Expected Return':p* get_prob(p)}\n",
    "    return optima_sol"
   ]
  },
  {
   "cell_type": "markdown",
   "metadata": {},
   "source": [
    "-----------------------"
   ]
  },
  {
   "cell_type": "code",
   "execution_count": 75,
   "metadata": {},
   "outputs": [],
   "source": [
    "columns_needed = list(X.columns)\n",
    "columns_remove = ['price_daily','host_length','pull_distance']\n",
    "for i in columns_remove:\n",
    "    columns_needed.remove(i) "
   ]
  },
  {
   "cell_type": "code",
   "execution_count": 145,
   "metadata": {},
   "outputs": [],
   "source": [
    "X_test_case =  X_test.iloc[1]\n",
    "X_test_case['host_length'] = 0\n",
    "X_test_case['pull_distance'] = 0\n",
    "X_blank = pd.DataFrame(X_test_case).T # use the values in other columns for convenience\n",
    "X_blank['price_daily'] = 0"
   ]
  },
  {
   "cell_type": "code",
   "execution_count": 216,
   "metadata": {},
   "outputs": [],
   "source": [
    "def optimization(lb, ub, prob_lower = 0):\n",
    "    optima_sol = {'prob':0, 'price':0, 'Expected Return':0}    \n",
    "#     print('Searching among [{}, {}]'.format(lb, ub))\n",
    "    for p in np.arange(lb, ub+1, 1):\n",
    "        prob = get_prob(p)\n",
    "        if prob >= prob_lower:\n",
    "            if p* prob >= optima_sol['Expected Return']:\n",
    "                optima_sol = {'prob':prob, 'price':p, 'Expected Return':p* prob}\n",
    "    if optima_sol['price'] == 0: # interpolate where we have little data points\n",
    "        a = (1-get_prob(lb))/lb**2\n",
    "        p = int(((1-prob_lower)/a)**(1/2))\n",
    "        optima_sol = {'prob':prob_lower, 'price':p, 'Expected Return':p* prob_lower}\n",
    "    return optima_sol"
   ]
  },
  {
   "cell_type": "code",
   "execution_count": 214,
   "metadata": {},
   "outputs": [],
   "source": [
    "def whole_process(userCase, prob_lower):\n",
    "    index_Flag = True\n",
    "    for i in columns_needed:\n",
    "        index_Flag &= X[i] == userCase[i].values[0]\n",
    "\n",
    "    lb, ub = np.quantile(X[index_Flag].price_daily, (0.05, 0.95))\n",
    "    return optimization(lb, ub, prob_lower)\n",
    "    \n",
    "    "
   ]
  },
  {
   "cell_type": "code",
   "execution_count": 217,
   "metadata": {},
   "outputs": [
    {
     "data": {
      "text/plain": [
       "{'prob': 0.9, 'price': 127.0, 'Expected Return': 114.3}"
      ]
     },
     "execution_count": 217,
     "metadata": {},
     "output_type": "execute_result"
    }
   ],
   "source": [
    "whole_process(X_blank, 0.9)"
   ]
  },
  {
   "cell_type": "markdown",
   "metadata": {},
   "source": [
    "---------------------------------"
   ]
  },
  {
   "cell_type": "code",
   "execution_count": 48,
   "metadata": {},
   "outputs": [],
   "source": [
    "# def get_prob(price):\n",
    "#     X_blank = input_testcase(price)\n",
    "#     prob = rf.predict_proba(X_blank)[0][-1] # use the model here\n",
    "#     return prob"
   ]
  },
  {
   "cell_type": "code",
   "execution_count": 49,
   "metadata": {},
   "outputs": [],
   "source": [
    "# def minimize_objective(price):\n",
    "#     return - price * get_prob(price)"
   ]
  },
  {
   "cell_type": "code",
   "execution_count": 55,
   "metadata": {},
   "outputs": [],
   "source": [
    "# def get_constraints():\n",
    "#     columns_needed = list(X.columns)\n",
    "#     columns_remove = ['price_daily','host_length','pull_distance']\n",
    "    \n",
    "#     X_blank = input_testcase(0)\n",
    "\n",
    "#     for i in columns_remove:\n",
    "#         columns_needed.remove(i) \n",
    "        \n",
    "#     index_Flag = True\n",
    "#     for i in columns_needed:\n",
    "#         index_Flag &= X[i] == X_blank[i].values[0]\n",
    "    \n",
    "#     return np.quantile(X[index_Flag].price_daily, (0.5, 0.95))\n",
    "        "
   ]
  },
  {
   "cell_type": "code",
   "execution_count": 56,
   "metadata": {},
   "outputs": [
    {
     "name": "stdout",
     "output_type": "stream",
     "text": [
      "The Suggested Price is 170.00\n",
      "The Expected Return is 85.00, with the probability of being rent is 0.50\n"
     ]
    }
   ],
   "source": [
    "# initial_price = 100\n",
    "# # solution = minimize(minimize_objective, initial_price, method = 'SLSQP', tol = 1e-6, bounds = [get_constraints()])\n",
    "# solution = minimize(minimize_objective, initial_price, method = 'SLSQP', tol = 1e-6, bounds = [(90,150)])\n",
    "\n",
    "# print('The Suggested Price is {0:4.2f}'.format(solution.x[0]))\n",
    "# print('The Expected Return is {0:4.2f}, with the probability of being rent is {1:4.2f}'.format(-solution.fun, get_prob(solution.x)))"
   ]
  }
 ],
 "metadata": {
  "kernelspec": {
   "display_name": "Python 3",
   "language": "python",
   "name": "python3"
  },
  "language_info": {
   "codemirror_mode": {
    "name": "ipython",
    "version": 3
   },
   "file_extension": ".py",
   "mimetype": "text/x-python",
   "name": "python",
   "nbconvert_exporter": "python",
   "pygments_lexer": "ipython3",
   "version": "3.6.8"
  }
 },
 "nbformat": 4,
 "nbformat_minor": 2
}
