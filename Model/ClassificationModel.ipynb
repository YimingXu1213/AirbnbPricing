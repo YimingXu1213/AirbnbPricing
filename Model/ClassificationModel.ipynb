{
 "cells": [
  {
   "cell_type": "code",
   "execution_count": 1,
   "metadata": {},
   "outputs": [],
   "source": [
    "import numpy as np\n",
    "import pandas as pd\n",
    "import warnings\n",
    "from datetime import datetime, timedelta\n",
    "from matplotlib import pyplot as plt\n",
    "from re import sub\n",
    "import pickle\n",
    "\n",
    "warnings.filterwarnings('ignore')"
   ]
  },
  {
   "cell_type": "code",
   "execution_count": 2,
   "metadata": {},
   "outputs": [],
   "source": [
    "# model packages\n",
    "from sklearn.model_selection import train_test_split\n",
    "from sklearn.model_selection import GridSearchCV\n",
    "from sklearn.model_selection import KFold\n",
    "from sklearn.linear_model import LogisticRegressionCV\n",
    "from sklearn.neighbors import KNeighborsClassifier\n",
    "from sklearn.discriminant_analysis import LinearDiscriminantAnalysis\n",
    "from sklearn.discriminant_analysis import QuadraticDiscriminantAnalysis\n",
    "from sklearn.tree import DecisionTreeClassifier\n",
    "from sklearn.ensemble import RandomForestClassifier,AdaBoostClassifier,GradientBoostingClassifier\n",
    "# from scipy.optimize import minimize"
   ]
  },
  {
   "cell_type": "code",
   "execution_count": 3,
   "metadata": {},
   "outputs": [],
   "source": [
    "df_clean = pd.read_csv('data/modelData.csv')\n",
    "df_clean['zipcode'] = df_clean['zipcode'].astype('category')"
   ]
  },
  {
   "cell_type": "code",
   "execution_count": 4,
   "metadata": {},
   "outputs": [],
   "source": [
    "# one-hot for categorical column (>= 3 categories)\n",
    "to_categorical = ['zipcode', 'property_type', 'room_type', 'bed_type', 'peak_month']\n",
    "\n",
    "\n",
    "df_clean = pd.concat([df_clean, pd.get_dummies(df_clean[to_categorical],\n",
    "                                              prefix=['zipcode_', 'propertyType_', 'roomType_', 'bedType_', 'peakMonth_'], \n",
    "                                              drop_first=True)], axis = 1)"
   ]
  },
  {
   "cell_type": "code",
   "execution_count": 5,
   "metadata": {},
   "outputs": [],
   "source": [
    "# not_features = ['listing_id','date','dayWeek','month','host_since','city', 'year', 'day'] + to_categorical\n",
    "not_features = to_categorical"
   ]
  },
  {
   "cell_type": "code",
   "execution_count": 6,
   "metadata": {},
   "outputs": [],
   "source": [
    "df_final = df_clean.drop(not_features, axis = 1)"
   ]
  },
  {
   "cell_type": "code",
   "execution_count": 7,
   "metadata": {},
   "outputs": [
    {
     "data": {
      "text/plain": [
       "(1636278, 113)"
      ]
     },
     "execution_count": 7,
     "metadata": {},
     "output_type": "execute_result"
    }
   ],
   "source": [
    "df_final.shape"
   ]
  },
  {
   "cell_type": "markdown",
   "metadata": {},
   "source": [
    "The features we have include:\n",
    "- price_daily\n",
    "- pull distance (how far the date is from the time pulling the data)\n",
    "- host info: host_length (when doing optimization for new hosts, set 0)\n",
    "- time info: weekend, peak_month\n",
    "- property info: zipcode, property type, room type, bed type, acommodates, bathrooms, bedrooms, beds, guests_included, extra_people\n",
    "- related fees info: security_deposit, cleaning_fee"
   ]
  },
  {
   "cell_type": "markdown",
   "metadata": {},
   "source": [
    "## Predictive Model (The probability of getting rent)\n",
    "\n",
    "In this predictive model, we are finding the mapping for (price, other variables) to (the probability of getting rent)"
   ]
  },
  {
   "cell_type": "code",
   "execution_count": 8,
   "metadata": {},
   "outputs": [],
   "source": [
    "np.random.seed(2019)\n",
    "negative_index = df_final[(df_final.pull_distance == 0) & (df_final.unavailable == 0)].index\n",
    "upsample_index = np.random.choice(negative_index, np.sum(df_final[df_final['pull_distance'] == 0]['unavailable'])-len(negative_index))\n",
    "\n",
    "df_final = df_final.append(df_final.iloc[upsample_index])"
   ]
  },
  {
   "cell_type": "code",
   "execution_count": 9,
   "metadata": {},
   "outputs": [],
   "source": [
    "X = df_final.drop(['unavailable'], axis = 1)\n",
    "Y = df_final['unavailable']"
   ]
  },
  {
   "cell_type": "code",
   "execution_count": 10,
   "metadata": {},
   "outputs": [
    {
     "name": "stdout",
     "output_type": "stream",
     "text": [
      "The probability of Being Rent is 0.62\n"
     ]
    },
    {
     "data": {
      "image/png": "[encoded data removed]",
      "text/plain": [
       "<Figure size 864x360 with 2 Axes>"
      ]
     },
     "metadata": {
      "needs_background": "light"
     },
     "output_type": "display_data"
    }
   ],
   "source": [
    "# Data Balance check\n",
    "fig,ax = plt.subplots(1,2,figsize=(12,5))\n",
    "ax[0].bar([1,2], [len(Y)-np.sum(Y)-len(upsample_index), np.sum(Y)])\n",
    "ax[1].bar([1,2], [len(Y)-np.sum(Y), np.sum(Y)])\n",
    "ax[0].set_xticks([1,2])\n",
    "ax[0].set_xticklabels(['not Rent', 'Rent'])\n",
    "ax[0].tick_params(labelsize=14)\n",
    "ax[0].set_ylabel('Number of Observations',fontsize=14)\n",
    "ax[1].set_xticks([1,2])\n",
    "ax[1].set_xticklabels(['not Rent', 'Rent'])\n",
    "ax[1].set_ylabel('Number of Observations',fontsize=14)\n",
    "ax[1].tick_params(labelsize=14)\n",
    "plt.tight_layout()\n",
    "print('The probability of Being Rent is {0:4.2f}'.format(np.sum(Y)/len(Y)))"
   ]
  },
  {
   "cell_type": "markdown",
   "metadata": {},
   "source": [
    "0. Train-Test Split"
   ]
  },
  {
   "cell_type": "code",
   "execution_count": 11,
   "metadata": {},
   "outputs": [
    {
     "name": "stdout",
     "output_type": "stream",
     "text": [
      "# Training Images: 1338276\n",
      "# Test Images: 334569\n"
     ]
    }
   ],
   "source": [
    "X_TRAIN, X_test, Y_TRAIN,  y_test = train_test_split(X, Y, test_size = 0.2, random_state = 2019)\n",
    "# X_train, X_val, y_train,  y_val = train_test_split(X_TRAIN, Y_TRAIN, test_size = 0.2, random_state = 2019)\n",
    "\n",
    "print('# Training Images: {}'.format(len(X_TRAIN)))\n",
    "# print('# Validation Images: {}'.format(len(X_val)))\n",
    "print('# Test Images: {}'.format(len(X_test)))"
   ]
  },
  {
   "cell_type": "markdown",
   "metadata": {},
   "source": [
    "1. Logistic Regression (with built-in cross validation for selecting Cs values and l1_ratios)"
   ]
  },
  {
   "cell_type": "code",
   "execution_count": 22,
   "metadata": {},
   "outputs": [],
   "source": [
    "k = KFold(5, random_state = 2019, shuffle=True)\n",
    "clf = LogisticRegressionCV(cv = k, random_state = 2019).fit(X_TRAIN, Y_TRAIN)"
   ]
  },
  {
   "cell_type": "code",
   "execution_count": 23,
   "metadata": {},
   "outputs": [
    {
     "name": "stdout",
     "output_type": "stream",
     "text": [
      "The accuracy for Logistic Regression on Train set is 0.6947\n",
      "The accuracy for Logistic Regression on Test set is 0.6944\n"
     ]
    }
   ],
   "source": [
    "print('The accuracy for Logistic Regression on Train set is {0:6.4f}'.format(clf.score(X_TRAIN, Y_TRAIN)))\n",
    "print('The accuracy for Logistic Regression on Test set is {0:6.4f}'.format(clf.score(X_test, y_test)))"
   ]
  },
  {
   "cell_type": "markdown",
   "metadata": {},
   "source": [
    "2. KNN (with cross validation for selecting n_neighbors)"
   ]
  },
  {
   "cell_type": "code",
   "execution_count": 27,
   "metadata": {
    "scrolled": true
   },
   "outputs": [
    {
     "data": {
      "text/plain": [
       "GridSearchCV(cv=KFold(n_splits=5, random_state=2019, shuffle=True),\n",
       "             error_score='raise-deprecating',\n",
       "             estimator=KNeighborsClassifier(algorithm='auto', leaf_size=30,\n",
       "                                            metric='minkowski',\n",
       "                                            metric_params=None, n_jobs=None,\n",
       "                                            n_neighbors=5, p=2,\n",
       "                                            weights='uniform'),\n",
       "             iid='warn', n_jobs=None,\n",
       "             param_grid={'n_neighbors': array([100,  90,  80,  70,  60,  50,  40,  30,  20,  10])},\n",
       "             pre_dispatch='2*n_jobs', refit=True, return_train_score=False,\n",
       "             scoring=None, verbose=0)"
      ]
     },
     "execution_count": 27,
     "metadata": {},
     "output_type": "execute_result"
    }
   ],
   "source": [
    "knn = KNeighborsClassifier()\n",
    "param_grid = {'n_neighbors': np.arange(100, 0, -10)}\n",
    "knn_gscv = GridSearchCV(knn, param_grid, cv = k)\n",
    "knn_gscv.fit(X_TRAIN, Y_TRAIN)"
   ]
  },
  {
   "cell_type": "code",
   "execution_count": 30,
   "metadata": {},
   "outputs": [
    {
     "name": "stdout",
     "output_type": "stream",
     "text": [
      "The accuracy for KNN on Train set is 0.9052\n",
      "The accuracy for KNN on Test set is 0.8804\n"
     ]
    }
   ],
   "source": [
    "print('The accuracy for KNN on Train set is {0:6.4f}'.format(knn_gscv.score(X_TRAIN, Y_TRAIN)))\n",
    "print('The accuracy for KNN on Test set is {0:6.4f}'.format(knn_gscv.score(X_test, y_test)))"
   ]
  },
  {
   "cell_type": "code",
   "execution_count": 34,
   "metadata": {},
   "outputs": [
    {
     "data": {
      "text/plain": [
       "{'n_neighbors': 10}"
      ]
     },
     "execution_count": 34,
     "metadata": {},
     "output_type": "execute_result"
    }
   ],
   "source": [
    "knn_gscv.best_params_ #cv_results_"
   ]
  },
  {
   "cell_type": "markdown",
   "metadata": {},
   "source": [
    "3. Decision Trees"
   ]
  },
  {
   "cell_type": "code",
   "execution_count": 38,
   "metadata": {},
   "outputs": [],
   "source": [
    "tree = DecisionTreeClassifier(min_samples_split=20).fit(X_TRAIN, Y_TRAIN)"
   ]
  },
  {
   "cell_type": "code",
   "execution_count": 39,
   "metadata": {},
   "outputs": [
    {
     "name": "stdout",
     "output_type": "stream",
     "text": [
      "The accuracy for Decision Tree on Train set is 0.9332\n",
      "The accuracy for Decision Tree on Test set is 0.8826\n"
     ]
    }
   ],
   "source": [
    "print('The accuracy for Decision Tree on Train set is {0:6.4f}'.format(tree.score(X_TRAIN, Y_TRAIN)))\n",
    "print('The accuracy for Decision Tree on Test set is {0:6.4f}'.format(tree.score(X_test, y_test)))"
   ]
  },
  {
   "cell_type": "markdown",
   "metadata": {},
   "source": [
    "4. Random Forest"
   ]
  },
  {
   "cell_type": "code",
   "execution_count": 46,
   "metadata": {},
   "outputs": [],
   "source": [
    "rf = RandomForestClassifier(n_estimators = 50, random_state = 42,\n",
    "                            min_samples_leaf=10,min_samples_split=30,max_features=0.6).fit(X_TRAIN, Y_TRAIN)"
   ]
  },
  {
   "cell_type": "code",
   "execution_count": 47,
   "metadata": {},
   "outputs": [
    {
     "name": "stdout",
     "output_type": "stream",
     "text": [
      "The accuracy for random forest on Train set is 0.9171\n",
      "The accuracy for random forest on Test set is 0.8904\n"
     ]
    }
   ],
   "source": [
    "print('The accuracy for random forest on Train set is {0:6.4f}'.format(rf.score(X_TRAIN, Y_TRAIN)))\n",
    "print('The accuracy for random forest on Test set is {0:6.4f}'.format(rf.score(X_test, y_test)))"
   ]
  },
  {
   "cell_type": "markdown",
   "metadata": {},
   "source": [
    "5. AdaBoost"
   ]
  },
  {
   "cell_type": "code",
   "execution_count": 49,
   "metadata": {},
   "outputs": [],
   "source": [
    "ada = AdaBoostClassifier(n_estimators=50, learning_rate=1.0,\n",
    "                         random_state = 42).fit(X_TRAIN, Y_TRAIN)"
   ]
  },
  {
   "cell_type": "code",
   "execution_count": 50,
   "metadata": {},
   "outputs": [
    {
     "name": "stdout",
     "output_type": "stream",
     "text": [
      "The accuracy for AdaBoost Classifier on Train set is 0.7064\n",
      "The accuracy for AdaBoost Classifier on Test set is 0.7070\n"
     ]
    }
   ],
   "source": [
    "print('The accuracy for AdaBoost Classifier on Train set is {0:6.4f}'.format(ada.score(X_TRAIN, Y_TRAIN)))\n",
    "print('The accuracy for AdaBoost Classifier on Test set is {0:6.4f}'.format(ada.score(X_test, y_test)))"
   ]
  },
  {
   "cell_type": "markdown",
   "metadata": {},
   "source": [
    "6. Gradient Boosting"
   ]
  },
  {
   "cell_type": "code",
   "execution_count": 55,
   "metadata": {},
   "outputs": [],
   "source": [
    "grad = GradientBoostingClassifier(learning_rate=0.1,n_estimators=100,subsample=0.8,\n",
    "                                  min_samples_leaf=10,min_samples_split=30,\n",
    "                                  random_state = 42).fit(X_TRAIN, Y_TRAIN)"
   ]
  },
  {
   "cell_type": "code",
   "execution_count": 56,
   "metadata": {
    "scrolled": true
   },
   "outputs": [
    {
     "name": "stdout",
     "output_type": "stream",
     "text": [
      "The accuracy for GradientBoosting Classifier on Train set is 0.7332\n",
      "The accuracy for GradientBoosting Classifier on Test set is 0.7344\n"
     ]
    }
   ],
   "source": [
    "print('The accuracy for GradientBoosting Classifier on Train set is {0:6.4f}'.format(grad.score(X_TRAIN, Y_TRAIN)))\n",
    "print('The accuracy for GradientBoosting Classifier on Test set is {0:6.4f}'.format(grad.score(X_test, y_test)))"
   ]
  },
  {
   "cell_type": "markdown",
   "metadata": {},
   "source": [
    "7. Model selection\n",
    "\n",
    "Random Forest has the highest Test set accuracy and the least overfitting."
   ]
  },
  {
   "cell_type": "code",
   "execution_count": 18,
   "metadata": {},
   "outputs": [],
   "source": [
    "pickle.dump(rf, open('rf.sav', 'wb'))\n",
    "# rf = pickle.load(open('rf.sav', 'rb'))"
   ]
  },
  {
   "cell_type": "markdown",
   "metadata": {},
   "source": [
    "8. Feature Importance"
   ]
  },
  {
   "cell_type": "code",
   "execution_count": 21,
   "metadata": {},
   "outputs": [],
   "source": [
    "rf_featureimp = pd.DataFrame({'Feature':X.columns,'Importance':rf.feature_importances_})\n",
    "rf_featureimp = rf_featureimp.sort_values(by='Importance',ascending=False).head(20)"
   ]
  },
  {
   "cell_type": "code",
   "execution_count": 22,
   "metadata": {},
   "outputs": [
    {
     "data": {
      "image/png": "[encoded data removed]",
      "text/plain": [
       "<Figure size 864x360 with 1 Axes>"
      ]
     },
     "metadata": {
      "needs_background": "light"
     },
     "output_type": "display_data"
    }
   ],
   "source": [
    "fig,ax = plt.subplots(1,1,figsize=(12,5))\n",
    "ax.bar(rf_featureimp.Feature, rf_featureimp.Importance)\n",
    "ax.set_xticklabels(rf_featureimp.Feature,rotation=90)\n",
    "ax.set_ylabel('Feature Importance',fontsize=14)\n",
    "ax.tick_params(labelsize=14)\n",
    "plt.tight_layout()\n",
    "plt.savefig('feature_imp2.png')"
   ]
  },
  {
   "cell_type": "code",
   "execution_count": null,
   "metadata": {},
   "outputs": [],
   "source": []
  },
  {
   "cell_type": "code",
   "execution_count": null,
   "metadata": {},
   "outputs": [],
   "source": []
  }
 ],
 "metadata": {
  "kernelspec": {
   "display_name": "Python [conda env:python3]",
   "language": "python",
   "name": "conda-env-python3-py"
  },
  "language_info": {
   "codemirror_mode": {
    "name": "ipython",
    "version": 3
   },
   "file_extension": ".py",
   "mimetype": "text/x-python",
   "name": "python",
   "nbconvert_exporter": "python",
   "pygments_lexer": "ipython3",
   "version": "3.7.4"
  }
 },
 "nbformat": 4,
 "nbformat_minor": 2
}
