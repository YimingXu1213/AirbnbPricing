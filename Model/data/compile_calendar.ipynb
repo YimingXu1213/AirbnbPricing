{
 "cells": [
  {
   "cell_type": "code",
   "execution_count": 1,
   "metadata": {},
   "outputs": [],
   "source": [
    "import numpy as np\n",
    "import pandas as pd"
   ]
  },
  {
   "cell_type": "code",
   "execution_count": 2,
   "metadata": {},
   "outputs": [],
   "source": [
    "city = 'boston'\n",
    "date_boston = ['20181011','20181117','20181213','20190117','20190209','20190312',\n",
    "               '20190415','20190519','20190614','20190714','20190819','20190922',\n",
    "               '20191011']\n",
    "df_boston = pd.DataFrame()\n",
    "for i,date in enumerate(date_boston[:-1]):\n",
    "    filepath = '../'+city+'/calendar'+date+'.csv'\n",
    "    df = pd.read_csv(filepath)\n",
    "    df.date = df.date.apply(lambda x: int(x[0:4]+x[5:7]+x[8:]))\n",
    "    df = df[df.date < int(date_boston[i+1])][['listing_id','date','available','price']]\n",
    "    df_boston = pd.concat([df_boston, df], ignore_index=True)\n"
   ]
  },
  {
   "cell_type": "code",
   "execution_count": 3,
   "metadata": {},
   "outputs": [],
   "source": [
    "city = 'cambridge'\n",
    "date_cambridge = ['20181118','20181215','20190122','20190213','20190318',\n",
    "                  '20190418','20190523','20190624','20190720','20190828','20190925',\n",
    "                  '20191118'] # missing 201810 data\n",
    "df_cambridge = pd.DataFrame()\n",
    "for i,date in enumerate(date_cambridge[:-1]):\n",
    "    filepath = '../'+city+'/calendar'+date+'.csv'\n",
    "    df = pd.read_csv(filepath)\n",
    "    df.date = df.date.apply(lambda x: int(x[0:4]+x[5:7]+x[8:]))\n",
    "    df = df[df.date < int(date_cambridge[i+1])][['listing_id','date','available','price']]\n",
    "    df_cambridge = pd.concat([df_cambridge, df], ignore_index=True)"
   ]
  },
  {
   "cell_type": "code",
   "execution_count": 4,
   "metadata": {},
   "outputs": [],
   "source": [
    "assert (df_cambridge.date.min() == int(date_cambridge[0]))\n",
    "assert (df_cambridge.date.max() == int(date_cambridge[-1])-1)\n",
    "assert (df_boston.date.min() == int(date_boston[0]))\n",
    "assert (df_boston.date.max() == int(date_boston[-1])-1)\n",
    "\n",
    "assert sum(df_cambridge.duplicated(subset=['listing_id','date'])) == 0\n",
    "assert sum(df_boston.duplicated(subset=['listing_id','date'])) == 0"
   ]
  },
  {
   "cell_type": "code",
   "execution_count": 11,
   "metadata": {},
   "outputs": [],
   "source": [
    "df_cambridge['city'] = 'cambridge'\n",
    "df_boston['city'] = 'boston'\n",
    "df_compiled = pd.concat([df_cambridge, df_boston], ignore_index=True)"
   ]
  },
  {
   "cell_type": "code",
   "execution_count": 12,
   "metadata": {
    "scrolled": true
   },
   "outputs": [
    {
     "name": "stdout",
     "output_type": "stream",
     "text": [
      "listing_id    0.000000\n",
      "date          0.000000\n",
      "available     0.000000\n",
      "price         0.146957\n",
      "city          0.000000\n",
      "dtype: float64\n"
     ]
    }
   ],
   "source": [
    "# only 'price' contains NaN; drop these rows\n",
    "print(np.mean(df_compiled.isna()))\n",
    "df_compiled = df_compiled.dropna()\n",
    "assert np.sum(np.sum(df_compiled.isna())) == 0"
   ]
  },
  {
   "cell_type": "code",
   "execution_count": 13,
   "metadata": {},
   "outputs": [],
   "source": [
    "# when handling duplicated <lisitng_id, date>, \n",
    "# prioritize cambridge because the data pull time is always later,\n",
    "# so the booking status are more up-to-date and accurate\n",
    "df_compiled['unavailable'] = df_compiled.available.apply(lambda x: 0 if x=='t' else 1)\n",
    "df_compiled.price = df_compiled.price.apply(lambda x: float(x[1:].replace(',','')))\n",
    "df_compiled = df_compiled.sort_values(by=['listing_id','date','city'])\n",
    "df_compiled = df_compiled.drop_duplicates(['listing_id','date'],keep='last')[['listing_id','date','city','price','unavailable']]"
   ]
  },
  {
   "cell_type": "code",
   "execution_count": 14,
   "metadata": {},
   "outputs": [],
   "source": [
    "# write to csv\n",
    "df_compiled.to_csv('calendar_compiled.csv')"
   ]
  },
  {
   "cell_type": "code",
   "execution_count": 15,
   "metadata": {},
   "outputs": [
    {
     "data": {
      "text/html": [
       "<div>\n",
       "<style scoped>\n",
       "    .dataframe tbody tr th:only-of-type {\n",
       "        vertical-align: middle;\n",
       "    }\n",
       "\n",
       "    .dataframe tbody tr th {\n",
       "        vertical-align: top;\n",
       "    }\n",
       "\n",
       "    .dataframe thead th {\n",
       "        text-align: right;\n",
       "    }\n",
       "</style>\n",
       "<table border=\"1\" class=\"dataframe\">\n",
       "  <thead>\n",
       "    <tr style=\"text-align: right;\">\n",
       "      <th></th>\n",
       "      <th>listing_id</th>\n",
       "      <th>date</th>\n",
       "      <th>city</th>\n",
       "      <th>price</th>\n",
       "      <th>unavailable</th>\n",
       "    </tr>\n",
       "  </thead>\n",
       "  <tbody>\n",
       "    <tr>\n",
       "      <th>708439</th>\n",
       "      <td>3781</td>\n",
       "      <td>20181119</td>\n",
       "      <td>boston</td>\n",
       "      <td>125.0</td>\n",
       "      <td>0</td>\n",
       "    </tr>\n",
       "    <tr>\n",
       "      <th>708438</th>\n",
       "      <td>3781</td>\n",
       "      <td>20181120</td>\n",
       "      <td>boston</td>\n",
       "      <td>125.0</td>\n",
       "      <td>0</td>\n",
       "    </tr>\n",
       "    <tr>\n",
       "      <th>708437</th>\n",
       "      <td>3781</td>\n",
       "      <td>20181121</td>\n",
       "      <td>boston</td>\n",
       "      <td>125.0</td>\n",
       "      <td>0</td>\n",
       "    </tr>\n",
       "    <tr>\n",
       "      <th>708436</th>\n",
       "      <td>3781</td>\n",
       "      <td>20181122</td>\n",
       "      <td>boston</td>\n",
       "      <td>125.0</td>\n",
       "      <td>0</td>\n",
       "    </tr>\n",
       "    <tr>\n",
       "      <th>708435</th>\n",
       "      <td>3781</td>\n",
       "      <td>20181123</td>\n",
       "      <td>boston</td>\n",
       "      <td>150.0</td>\n",
       "      <td>0</td>\n",
       "    </tr>\n",
       "  </tbody>\n",
       "</table>\n",
       "</div>"
      ],
      "text/plain": [
       "        listing_id      date    city  price  unavailable\n",
       "708439        3781  20181119  boston  125.0            0\n",
       "708438        3781  20181120  boston  125.0            0\n",
       "708437        3781  20181121  boston  125.0            0\n",
       "708436        3781  20181122  boston  125.0            0\n",
       "708435        3781  20181123  boston  150.0            0"
      ]
     },
     "execution_count": 15,
     "metadata": {},
     "output_type": "execute_result"
    }
   ],
   "source": [
    "df_compiled.head()"
   ]
  },
  {
   "cell_type": "code",
   "execution_count": null,
   "metadata": {},
   "outputs": [],
   "source": []
  },
  {
   "cell_type": "code",
   "execution_count": null,
   "metadata": {},
   "outputs": [],
   "source": []
  }
 ],
 "metadata": {
  "kernelspec": {
   "display_name": "Python [conda env:python3]",
   "language": "python",
   "name": "conda-env-python3-py"
  },
  "language_info": {
   "codemirror_mode": {
    "name": "ipython",
    "version": 3
   },
   "file_extension": ".py",
   "mimetype": "text/x-python",
   "name": "python",
   "nbconvert_exporter": "python",
   "pygments_lexer": "ipython3",
   "version": "3.7.4"
  }
 },
 "nbformat": 4,
 "nbformat_minor": 2
}
